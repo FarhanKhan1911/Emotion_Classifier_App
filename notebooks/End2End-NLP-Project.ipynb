{
 "cells": [
  {
   "cell_type": "markdown",
   "id": "36f38e2a-9998-4c73-bfc3-21b74d64a5ee",
   "metadata": {},
   "source": [
    "### End 2 End NLP Project\n",
    "+ Emotion Detection In Text \n",
    "+ Text Classifier"
   ]
  },
  {
   "cell_type": "code",
   "execution_count": null,
   "id": "f0814628-3d83-4fd6-a511-2eccf79f9f1e",
   "metadata": {},
   "outputs": [],
   "source": [
    "# Load EDA Pkgs\n",
    "import pandas as pd\n",
    "import numpy as np"
   ]
  },
  {
   "cell_type": "code",
   "execution_count": null,
   "id": "ea0d580d-c31c-44b7-b09b-10225857eebe",
   "metadata": {},
   "outputs": [],
   "source": [
    "# Load Data Viz Pkgs\n",
    "import seaborn as sns"
   ]
  },
  {
   "cell_type": "code",
   "execution_count": null,
   "id": "91eccfbf-d4d0-4e16-b0f7-2d7941efddb0",
   "metadata": {},
   "outputs": [],
   "source": [
    "# Load Text Cleaning Pkgs\n",
    "import neattext.functions as nfx"
   ]
  },
  {
   "cell_type": "code",
   "execution_count": null,
   "id": "21e7e868-35fb-483f-82b6-842a29ef1342",
   "metadata": {},
   "outputs": [],
   "source": [
    "# Load ML Pkgs\n",
    "# Estimators\n",
    "from sklearn.linear_model import LogisticRegression\n",
    "from sklearn.naive_bayes import MultinomialNB\n",
    "\n",
    "# Transformers\n",
    "from sklearn.feature_extraction.text import CountVectorizer\n",
    "from sklearn.model_selection import train_test_split\n",
    "from sklearn.metrics import accuracy_score,classification_report,confusion_matrix"
   ]
  },
  {
   "cell_type": "code",
   "execution_count": null,
   "id": "b209e004-ab77-4407-8689-b4318944d47f",
   "metadata": {},
   "outputs": [],
   "source": [
    "# Load Dataset\n",
    "df = pd.read_csv(\"data/emotion_dataset_raw.csv\")"
   ]
  },
  {
   "cell_type": "code",
   "execution_count": null,
   "id": "fea2d4c0-3bdd-405e-ab69-507ceaac36cb",
   "metadata": {},
   "outputs": [],
   "source": [
    "df.head()"
   ]
  },
  {
   "cell_type": "code",
   "execution_count": null,
   "id": "430565a3-cf3b-4c6f-afa5-bafd084f5676",
   "metadata": {},
   "outputs": [],
   "source": [
    "# Value Counts\n",
    "df['Emotion'].value_counts()"
   ]
  },
  {
   "cell_type": "code",
   "execution_count": null,
   "id": "531d3449-a959-4a19-bff0-3ffed551e619",
   "metadata": {},
   "outputs": [],
   "source": [
    "# Plot\n",
    "sns.countplot(x='Emotion',data=df)"
   ]
  },
  {
   "cell_type": "code",
   "execution_count": null,
   "id": "40f991d0-952f-40c1-bf00-f3476ce0436d",
   "metadata": {
    "collapsed": true,
    "jupyter": {
     "outputs_hidden": true
    },
    "tags": []
   },
   "outputs": [],
   "source": [
    "# Data Cleaning\n",
    "dir(nfx)"
   ]
  },
  {
   "cell_type": "code",
   "execution_count": null,
   "id": "b1f87847-a91c-4bd6-a307-d746eb5aa9a0",
   "metadata": {},
   "outputs": [],
   "source": [
    "# User handles\n",
    "df['Clean_Text'] = df['Text'].apply(nfx.remove_userhandles)"
   ]
  },
  {
   "cell_type": "code",
   "execution_count": null,
   "id": "03886bc3-1ac4-4f1b-842b-e5d2d770ff81",
   "metadata": {},
   "outputs": [],
   "source": [
    "# Stopwords\n",
    "df['Clean_Text'] = df['Clean_Text'].apply(nfx.remove_stopwords)"
   ]
  },
  {
   "cell_type": "code",
   "execution_count": null,
   "id": "0a0fcc0c-4adf-4f0b-b226-164659ad70ba",
   "metadata": {
    "collapsed": true,
    "jupyter": {
     "outputs_hidden": true
    },
    "tags": []
   },
   "outputs": [],
   "source": [
    "df"
   ]
  },
  {
   "cell_type": "code",
   "execution_count": null,
   "id": "450c39c0-79dd-4eaf-85fe-57e344eb81bd",
   "metadata": {},
   "outputs": [],
   "source": [
    "# Features & Labels\n",
    "Xfeatures = df['Clean_Text']\n",
    "ylabels = df['Emotion']"
   ]
  },
  {
   "cell_type": "code",
   "execution_count": null,
   "id": "27d7f976-c28f-449e-ae1a-53a42bbda4e8",
   "metadata": {},
   "outputs": [],
   "source": [
    "#  Split Data\n",
    "x_train,x_test,y_train,y_test = train_test_split(Xfeatures,ylabels,test_size=0.3,random_state=42)"
   ]
  },
  {
   "cell_type": "code",
   "execution_count": null,
   "id": "2f086f29-dba9-40d2-a9dd-f06a6cca3a4c",
   "metadata": {},
   "outputs": [],
   "source": [
    "# Build Pipeline\n",
    "from sklearn.pipeline import Pipeline"
   ]
  },
  {
   "cell_type": "code",
   "execution_count": null,
   "id": "6b81cc86-2bef-40c2-b9a3-668caaadaff0",
   "metadata": {},
   "outputs": [],
   "source": [
    "# LogisticRegression Pipeline\n",
    "pipe_lr = Pipeline(steps=[('cv',CountVectorizer()),('lr',LogisticRegression())])"
   ]
  },
  {
   "cell_type": "code",
   "execution_count": null,
   "id": "dc64b9a7-efe2-4bc4-a0e7-46dff1d52b31",
   "metadata": {
    "collapsed": true,
    "jupyter": {
     "outputs_hidden": true
    },
    "tags": []
   },
   "outputs": [],
   "source": [
    "# Train and Fit Data\n",
    "pipe_lr.fit(x_train,y_train)"
   ]
  },
  {
   "cell_type": "code",
   "execution_count": null,
   "id": "135ed6f8-56ff-4d53-85e3-541e3a7ae2d7",
   "metadata": {},
   "outputs": [],
   "source": [
    "pipe_lr"
   ]
  },
  {
   "cell_type": "code",
   "execution_count": null,
   "id": "28396371-5f5c-4a3b-b974-164e047764f3",
   "metadata": {},
   "outputs": [],
   "source": [
    "# Check Accuracy\n",
    "pipe_lr.score(x_test,y_test)"
   ]
  },
  {
   "cell_type": "code",
   "execution_count": null,
   "id": "eb3a26b6-d09e-422f-991b-b08c48f55b75",
   "metadata": {},
   "outputs": [],
   "source": [
    "# Make A Prediction\n",
    "ex1 = \"This book was so interesting it made me happy\""
   ]
  },
  {
   "cell_type": "code",
   "execution_count": null,
   "id": "b08597d9-6f59-45cb-a648-95b0da1ce313",
   "metadata": {},
   "outputs": [],
   "source": [
    "pipe_lr.predict([ex1])"
   ]
  },
  {
   "cell_type": "code",
   "execution_count": null,
   "id": "5b3822ac-17fc-43dd-9bb7-8dad07a4d32c",
   "metadata": {},
   "outputs": [],
   "source": [
    "# Prediction Prob\n",
    "pipe_lr.predict_proba([ex1])"
   ]
  },
  {
   "cell_type": "code",
   "execution_count": null,
   "id": "5b7c4596-d643-48e5-a777-79a6f55c49da",
   "metadata": {},
   "outputs": [],
   "source": [
    "# To Know the classes\n",
    "pipe_lr.classes_"
   ]
  },
  {
   "cell_type": "code",
   "execution_count": null,
   "id": "c0d40f62-b1fd-4748-a279-c8f50c748f26",
   "metadata": {},
   "outputs": [],
   "source": [
    "# Save Model & Pipeline\n",
    "import joblib\n",
    "pipeline_file = open(\"emotion_classifier_pipe_lr_03_june_2021.pkl\",\"wb\")\n",
    "joblib.dump(pipe_lr,pipeline_file)\n",
    "pipeline_file.close()"
   ]
  },
  {
   "cell_type": "code",
   "execution_count": null,
   "id": "377c4e98-67f0-45e5-8dd5-0417585754f0",
   "metadata": {},
   "outputs": [],
   "source": []
  }
 ],
 "metadata": {
  "kernelspec": {
   "display_name": "Python 3.10.7 ('NLP')",
   "language": "python",
   "name": "python3"
  },
  "language_info": {
   "codemirror_mode": {
    "name": "ipython",
    "version": 3
   },
   "file_extension": ".py",
   "mimetype": "text/x-python",
   "name": "python",
   "nbconvert_exporter": "python",
   "pygments_lexer": "ipython3",
   "version": "3.10.7"
  },
  "vscode": {
   "interpreter": {
    "hash": "3b9f6a9cd8c5ff96393627307b77b9a17aafe12a224476d58a29ed94c7fe777f"
   }
  }
 },
 "nbformat": 4,
 "nbformat_minor": 5
}
